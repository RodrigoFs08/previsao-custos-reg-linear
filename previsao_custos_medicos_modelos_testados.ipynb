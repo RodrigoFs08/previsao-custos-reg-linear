{
 "cells": [
  {
   "cell_type": "markdown",
   "id": "59b56f02",
   "metadata": {},
   "source": [
    "# Previsão de Custos Médicos\n",
    "Este notebook visa testar múltiplos modelos de regressão para identificar o melhor para prever encargos médicos individuais."
   ]
  },
  {
   "cell_type": "markdown",
   "id": "858adb05",
   "metadata": {},
   "source": [
    "## 1. Exploração de Dados\n",
    "Carregamos o dataset e ajustamos as colunas para visualizá-las corretamente."
   ]
  },
  {
   "cell_type": "code",
   "execution_count": 4,
   "id": "508cc54a",
   "metadata": {},
   "outputs": [],
   "source": [
    "# Carregar bibliotecas\n",
    "import pandas as pd\n",
    "import matplotlib.pyplot as plt\n",
    "import seaborn as sns\n",
    "from sklearn.model_selection import train_test_split, cross_val_score\n",
    "from sklearn.linear_model import LinearRegression\n",
    "from sklearn.metrics import mean_absolute_error, r2_score\n",
    "from sklearn.preprocessing import StandardScaler\n",
    "from sklearn.tree import DecisionTreeRegressor\n",
    "from sklearn.ensemble import RandomForestRegressor\n",
    "from sklearn.neighbors import KNeighborsRegressor\n",
    "from sklearn.svm import SVR"
   ]
  },
  {
   "cell_type": "code",
   "execution_count": 5,
   "id": "5a520712",
   "metadata": {},
   "outputs": [
    {
     "data": {
      "text/html": [
       "<div>\n",
       "<style scoped>\n",
       "    .dataframe tbody tr th:only-of-type {\n",
       "        vertical-align: middle;\n",
       "    }\n",
       "\n",
       "    .dataframe tbody tr th {\n",
       "        vertical-align: top;\n",
       "    }\n",
       "\n",
       "    .dataframe thead th {\n",
       "        text-align: right;\n",
       "    }\n",
       "</style>\n",
       "<table border=\"1\" class=\"dataframe\">\n",
       "  <thead>\n",
       "    <tr style=\"text-align: right;\">\n",
       "      <th></th>\n",
       "      <th>idade</th>\n",
       "      <th>gênero</th>\n",
       "      <th>imc</th>\n",
       "      <th>filhos</th>\n",
       "      <th>fumante</th>\n",
       "      <th>região</th>\n",
       "      <th>encargos</th>\n",
       "    </tr>\n",
       "  </thead>\n",
       "  <tbody>\n",
       "    <tr>\n",
       "      <th>0</th>\n",
       "      <td>18</td>\n",
       "      <td>feminino</td>\n",
       "      <td>31.956701</td>\n",
       "      <td>3</td>\n",
       "      <td>não</td>\n",
       "      <td>norte</td>\n",
       "      <td>22782.353880</td>\n",
       "    </tr>\n",
       "    <tr>\n",
       "      <th>1</th>\n",
       "      <td>27</td>\n",
       "      <td>masculino</td>\n",
       "      <td>22.209684</td>\n",
       "      <td>4</td>\n",
       "      <td>não</td>\n",
       "      <td>nordeste</td>\n",
       "      <td>23532.172907</td>\n",
       "    </tr>\n",
       "    <tr>\n",
       "      <th>2</th>\n",
       "      <td>39</td>\n",
       "      <td>masculino</td>\n",
       "      <td>37.916545</td>\n",
       "      <td>4</td>\n",
       "      <td>não</td>\n",
       "      <td>sul</td>\n",
       "      <td>30348.511521</td>\n",
       "    </tr>\n",
       "    <tr>\n",
       "      <th>3</th>\n",
       "      <td>26</td>\n",
       "      <td>feminino</td>\n",
       "      <td>36.615235</td>\n",
       "      <td>4</td>\n",
       "      <td>sim</td>\n",
       "      <td>nordeste</td>\n",
       "      <td>40530.198231</td>\n",
       "    </tr>\n",
       "    <tr>\n",
       "      <th>4</th>\n",
       "      <td>45</td>\n",
       "      <td>masculino</td>\n",
       "      <td>33.137036</td>\n",
       "      <td>1</td>\n",
       "      <td>sim</td>\n",
       "      <td>sul</td>\n",
       "      <td>35306.323289</td>\n",
       "    </tr>\n",
       "  </tbody>\n",
       "</table>\n",
       "</div>"
      ],
      "text/plain": [
       "   idade     gênero        imc  filhos fumante    região      encargos\n",
       "0     18   feminino  31.956701       3     não     norte  22782.353880\n",
       "1     27  masculino  22.209684       4     não  nordeste  23532.172907\n",
       "2     39  masculino  37.916545       4     não       sul  30348.511521\n",
       "3     26   feminino  36.615235       4     sim  nordeste  40530.198231\n",
       "4     45  masculino  33.137036       1     sim       sul  35306.323289"
      ]
     },
     "execution_count": 5,
     "metadata": {},
     "output_type": "execute_result"
    }
   ],
   "source": [
    "# Carregar o dataset\n",
    "dataset = pd.read_csv('dados_custos.csv', delimiter=';')\n",
    "dataset.head()"
   ]
  },
  {
   "cell_type": "code",
   "execution_count": 6,
   "id": "96ff749d",
   "metadata": {},
   "outputs": [
    {
     "name": "stdout",
     "output_type": "stream",
     "text": [
      "<class 'pandas.core.frame.DataFrame'>\n",
      "RangeIndex: 21345 entries, 0 to 21344\n",
      "Data columns (total 7 columns):\n",
      " #   Column    Non-Null Count  Dtype  \n",
      "---  ------    --------------  -----  \n",
      " 0   idade     21345 non-null  int64  \n",
      " 1   gênero    21345 non-null  object \n",
      " 2   imc       21345 non-null  float64\n",
      " 3   filhos    21345 non-null  int64  \n",
      " 4   fumante   21345 non-null  object \n",
      " 5   região    21345 non-null  object \n",
      " 6   encargos  21345 non-null  float64\n",
      "dtypes: float64(2), int64(2), object(3)\n",
      "memory usage: 1.1+ MB\n"
     ]
    },
    {
     "data": {
      "text/html": [
       "<div>\n",
       "<style scoped>\n",
       "    .dataframe tbody tr th:only-of-type {\n",
       "        vertical-align: middle;\n",
       "    }\n",
       "\n",
       "    .dataframe tbody tr th {\n",
       "        vertical-align: top;\n",
       "    }\n",
       "\n",
       "    .dataframe thead th {\n",
       "        text-align: right;\n",
       "    }\n",
       "</style>\n",
       "<table border=\"1\" class=\"dataframe\">\n",
       "  <thead>\n",
       "    <tr style=\"text-align: right;\">\n",
       "      <th></th>\n",
       "      <th>idade</th>\n",
       "      <th>imc</th>\n",
       "      <th>filhos</th>\n",
       "      <th>encargos</th>\n",
       "    </tr>\n",
       "  </thead>\n",
       "  <tbody>\n",
       "    <tr>\n",
       "      <th>count</th>\n",
       "      <td>21345.000000</td>\n",
       "      <td>21345.000000</td>\n",
       "      <td>21345.000000</td>\n",
       "      <td>21345.000000</td>\n",
       "    </tr>\n",
       "    <tr>\n",
       "      <th>mean</th>\n",
       "      <td>41.210494</td>\n",
       "      <td>29.253549</td>\n",
       "      <td>1.992129</td>\n",
       "      <td>30884.170457</td>\n",
       "    </tr>\n",
       "    <tr>\n",
       "      <th>std</th>\n",
       "      <td>13.505082</td>\n",
       "      <td>6.190572</td>\n",
       "      <td>1.412932</td>\n",
       "      <td>7145.886162</td>\n",
       "    </tr>\n",
       "    <tr>\n",
       "      <th>min</th>\n",
       "      <td>18.000000</td>\n",
       "      <td>18.501369</td>\n",
       "      <td>0.000000</td>\n",
       "      <td>8165.538032</td>\n",
       "    </tr>\n",
       "    <tr>\n",
       "      <th>25%</th>\n",
       "      <td>30.000000</td>\n",
       "      <td>23.888211</td>\n",
       "      <td>1.000000</td>\n",
       "      <td>25561.192169</td>\n",
       "    </tr>\n",
       "    <tr>\n",
       "      <th>50%</th>\n",
       "      <td>41.000000</td>\n",
       "      <td>29.305898</td>\n",
       "      <td>2.000000</td>\n",
       "      <td>30959.302819</td>\n",
       "    </tr>\n",
       "    <tr>\n",
       "      <th>75%</th>\n",
       "      <td>53.000000</td>\n",
       "      <td>34.607840</td>\n",
       "      <td>3.000000</td>\n",
       "      <td>36206.180460</td>\n",
       "    </tr>\n",
       "    <tr>\n",
       "      <th>max</th>\n",
       "      <td>64.000000</td>\n",
       "      <td>39.997998</td>\n",
       "      <td>4.000000</td>\n",
       "      <td>51301.589107</td>\n",
       "    </tr>\n",
       "  </tbody>\n",
       "</table>\n",
       "</div>"
      ],
      "text/plain": [
       "              idade           imc        filhos      encargos\n",
       "count  21345.000000  21345.000000  21345.000000  21345.000000\n",
       "mean      41.210494     29.253549      1.992129  30884.170457\n",
       "std       13.505082      6.190572      1.412932   7145.886162\n",
       "min       18.000000     18.501369      0.000000   8165.538032\n",
       "25%       30.000000     23.888211      1.000000  25561.192169\n",
       "50%       41.000000     29.305898      2.000000  30959.302819\n",
       "75%       53.000000     34.607840      3.000000  36206.180460\n",
       "max       64.000000     39.997998      4.000000  51301.589107"
      ]
     },
     "execution_count": 6,
     "metadata": {},
     "output_type": "execute_result"
    }
   ],
   "source": [
    "# Explorar a estrutura e sumarizar informações antes da conversão\n",
    "dataset.info()\n",
    "dataset.describe()"
   ]
  },
  {
   "cell_type": "markdown",
   "id": "993306a6",
   "metadata": {},
   "source": [
    "## 2. Pré-processamento de Dados\n",
    "Verificamos a necessidade de pré-processamento, como tratar valores ausentes e converter variáveis categóricas."
   ]
  },
  {
   "cell_type": "code",
   "execution_count": 8,
   "id": "d7e63f3b",
   "metadata": {},
   "outputs": [
    {
     "data": {
      "text/html": [
       "<div>\n",
       "<style scoped>\n",
       "    .dataframe tbody tr th:only-of-type {\n",
       "        vertical-align: middle;\n",
       "    }\n",
       "\n",
       "    .dataframe tbody tr th {\n",
       "        vertical-align: top;\n",
       "    }\n",
       "\n",
       "    .dataframe thead th {\n",
       "        text-align: right;\n",
       "    }\n",
       "</style>\n",
       "<table border=\"1\" class=\"dataframe\">\n",
       "  <thead>\n",
       "    <tr style=\"text-align: right;\">\n",
       "      <th></th>\n",
       "      <th>idade</th>\n",
       "      <th>imc</th>\n",
       "      <th>filhos</th>\n",
       "      <th>encargos</th>\n",
       "      <th>gênero_masculino</th>\n",
       "      <th>fumante_sim</th>\n",
       "      <th>região_norte</th>\n",
       "      <th>região_sudoeste</th>\n",
       "      <th>região_sul</th>\n",
       "    </tr>\n",
       "  </thead>\n",
       "  <tbody>\n",
       "    <tr>\n",
       "      <th>0</th>\n",
       "      <td>18</td>\n",
       "      <td>31.956701</td>\n",
       "      <td>3</td>\n",
       "      <td>22782.353880</td>\n",
       "      <td>False</td>\n",
       "      <td>False</td>\n",
       "      <td>True</td>\n",
       "      <td>False</td>\n",
       "      <td>False</td>\n",
       "    </tr>\n",
       "    <tr>\n",
       "      <th>1</th>\n",
       "      <td>27</td>\n",
       "      <td>22.209684</td>\n",
       "      <td>4</td>\n",
       "      <td>23532.172907</td>\n",
       "      <td>True</td>\n",
       "      <td>False</td>\n",
       "      <td>False</td>\n",
       "      <td>False</td>\n",
       "      <td>False</td>\n",
       "    </tr>\n",
       "    <tr>\n",
       "      <th>2</th>\n",
       "      <td>39</td>\n",
       "      <td>37.916545</td>\n",
       "      <td>4</td>\n",
       "      <td>30348.511521</td>\n",
       "      <td>True</td>\n",
       "      <td>False</td>\n",
       "      <td>False</td>\n",
       "      <td>False</td>\n",
       "      <td>True</td>\n",
       "    </tr>\n",
       "    <tr>\n",
       "      <th>3</th>\n",
       "      <td>26</td>\n",
       "      <td>36.615235</td>\n",
       "      <td>4</td>\n",
       "      <td>40530.198231</td>\n",
       "      <td>False</td>\n",
       "      <td>True</td>\n",
       "      <td>False</td>\n",
       "      <td>False</td>\n",
       "      <td>False</td>\n",
       "    </tr>\n",
       "    <tr>\n",
       "      <th>4</th>\n",
       "      <td>45</td>\n",
       "      <td>33.137036</td>\n",
       "      <td>1</td>\n",
       "      <td>35306.323289</td>\n",
       "      <td>True</td>\n",
       "      <td>True</td>\n",
       "      <td>False</td>\n",
       "      <td>False</td>\n",
       "      <td>True</td>\n",
       "    </tr>\n",
       "  </tbody>\n",
       "</table>\n",
       "</div>"
      ],
      "text/plain": [
       "   idade        imc  filhos      encargos  gênero_masculino  fumante_sim  \\\n",
       "0     18  31.956701       3  22782.353880             False        False   \n",
       "1     27  22.209684       4  23532.172907              True        False   \n",
       "2     39  37.916545       4  30348.511521              True        False   \n",
       "3     26  36.615235       4  40530.198231             False         True   \n",
       "4     45  33.137036       1  35306.323289              True         True   \n",
       "\n",
       "   região_norte  região_sudoeste  região_sul  \n",
       "0          True            False       False  \n",
       "1         False            False       False  \n",
       "2         False            False        True  \n",
       "3         False            False       False  \n",
       "4         False            False        True  "
      ]
     },
     "execution_count": 8,
     "metadata": {},
     "output_type": "execute_result"
    }
   ],
   "source": [
    "# Converter as colunas categóricas para numéricas\n",
    "categorical_cols = ['gênero', 'fumante', 'região']\n",
    "dataset = pd.get_dummies(dataset, columns=categorical_cols, drop_first=True)\n",
    "dataset.head()"
   ]
  },
  {
   "cell_type": "markdown",
   "id": "23b4c353",
   "metadata": {},
   "source": [
    "## Normalização dos Dados\n",
    "Padronizamos as variáveis para evitar influência desbalanceada."
   ]
  },
  {
   "cell_type": "code",
   "execution_count": 14,
   "id": "0c043c86",
   "metadata": {},
   "outputs": [],
   "source": [
    "# Separar as features de entrada e saída\n",
    "X = dataset.drop(['encargos'], axis=1)\n",
    "y = dataset['encargos']"
   ]
  },
  {
   "cell_type": "code",
   "execution_count": 16,
   "id": "19916fe8",
   "metadata": {},
   "outputs": [
    {
     "data": {
      "text/html": [
       "<div>\n",
       "<style scoped>\n",
       "    .dataframe tbody tr th:only-of-type {\n",
       "        vertical-align: middle;\n",
       "    }\n",
       "\n",
       "    .dataframe tbody tr th {\n",
       "        vertical-align: top;\n",
       "    }\n",
       "\n",
       "    .dataframe thead th {\n",
       "        text-align: right;\n",
       "    }\n",
       "</style>\n",
       "<table border=\"1\" class=\"dataframe\">\n",
       "  <thead>\n",
       "    <tr style=\"text-align: right;\">\n",
       "      <th></th>\n",
       "      <th>idade</th>\n",
       "      <th>imc</th>\n",
       "      <th>filhos</th>\n",
       "      <th>gênero_masculino</th>\n",
       "      <th>fumante_sim</th>\n",
       "      <th>região_norte</th>\n",
       "      <th>região_sudoeste</th>\n",
       "      <th>região_sul</th>\n",
       "    </tr>\n",
       "  </thead>\n",
       "  <tbody>\n",
       "    <tr>\n",
       "      <th>0</th>\n",
       "      <td>-1.718689</td>\n",
       "      <td>0.436666</td>\n",
       "      <td>0.713335</td>\n",
       "      <td>-1.003332</td>\n",
       "      <td>-1.004084</td>\n",
       "      <td>1.736661</td>\n",
       "      <td>-0.577549</td>\n",
       "      <td>-0.584473</td>\n",
       "    </tr>\n",
       "    <tr>\n",
       "      <th>1</th>\n",
       "      <td>-1.052258</td>\n",
       "      <td>-1.137864</td>\n",
       "      <td>1.421100</td>\n",
       "      <td>0.996679</td>\n",
       "      <td>-1.004084</td>\n",
       "      <td>-0.575818</td>\n",
       "      <td>-0.577549</td>\n",
       "      <td>-0.584473</td>\n",
       "    </tr>\n",
       "    <tr>\n",
       "      <th>2</th>\n",
       "      <td>-0.163683</td>\n",
       "      <td>1.399418</td>\n",
       "      <td>1.421100</td>\n",
       "      <td>0.996679</td>\n",
       "      <td>-1.004084</td>\n",
       "      <td>-0.575818</td>\n",
       "      <td>-0.577549</td>\n",
       "      <td>1.710942</td>\n",
       "    </tr>\n",
       "    <tr>\n",
       "      <th>3</th>\n",
       "      <td>-1.126306</td>\n",
       "      <td>1.189205</td>\n",
       "      <td>1.421100</td>\n",
       "      <td>-1.003332</td>\n",
       "      <td>0.995932</td>\n",
       "      <td>-0.575818</td>\n",
       "      <td>-0.577549</td>\n",
       "      <td>-0.584473</td>\n",
       "    </tr>\n",
       "    <tr>\n",
       "      <th>4</th>\n",
       "      <td>0.280605</td>\n",
       "      <td>0.627338</td>\n",
       "      <td>-0.702194</td>\n",
       "      <td>0.996679</td>\n",
       "      <td>0.995932</td>\n",
       "      <td>-0.575818</td>\n",
       "      <td>-0.577549</td>\n",
       "      <td>1.710942</td>\n",
       "    </tr>\n",
       "  </tbody>\n",
       "</table>\n",
       "</div>"
      ],
      "text/plain": [
       "      idade       imc    filhos  gênero_masculino  fumante_sim  região_norte  \\\n",
       "0 -1.718689  0.436666  0.713335         -1.003332    -1.004084      1.736661   \n",
       "1 -1.052258 -1.137864  1.421100          0.996679    -1.004084     -0.575818   \n",
       "2 -0.163683  1.399418  1.421100          0.996679    -1.004084     -0.575818   \n",
       "3 -1.126306  1.189205  1.421100         -1.003332     0.995932     -0.575818   \n",
       "4  0.280605  0.627338 -0.702194          0.996679     0.995932     -0.575818   \n",
       "\n",
       "   região_sudoeste  região_sul  \n",
       "0        -0.577549   -0.584473  \n",
       "1        -0.577549   -0.584473  \n",
       "2        -0.577549    1.710942  \n",
       "3        -0.577549   -0.584473  \n",
       "4        -0.577549    1.710942  "
      ]
     },
     "execution_count": 16,
     "metadata": {},
     "output_type": "execute_result"
    }
   ],
   "source": [
    "# Padronizar as variáveis\n",
    "scaler = StandardScaler()\n",
    "X_scaled = scaler.fit_transform(X)\n",
    "X_scaled = pd.DataFrame(X_scaled, columns=X.columns)\n",
    "X_scaled.head()"
   ]
  },
  {
   "cell_type": "markdown",
   "id": "481b33f4",
   "metadata": {},
   "source": [
    "## 3. Teste de Múltiplos Modelos\n",
    "Vamos testar diferentes modelos de regressão e escolher o melhor com base em cross-validation."
   ]
  },
  {
   "cell_type": "code",
   "execution_count": 19,
   "id": "0fa550ff",
   "metadata": {},
   "outputs": [],
   "source": [
    "# Dividir o dataset em treino e teste\n",
    "X_train, X_test, y_train, y_test = train_test_split(X_scaled, y, test_size=0.2, random_state=42)"
   ]
  },
  {
   "cell_type": "code",
   "execution_count": 21,
   "id": "754f6d47",
   "metadata": {},
   "outputs": [
    {
     "data": {
      "text/plain": [
       "{'Linear Regression': 0.9221686516685381,\n",
       " 'Decision Tree': 0.8322244996549915,\n",
       " 'Random Forest': 0.906579440641592,\n",
       " 'K-Nearest Neighbors': 0.9025318587753116,\n",
       " 'Support Vector Regressor': 0.12194244026328446}"
      ]
     },
     "execution_count": 21,
     "metadata": {},
     "output_type": "execute_result"
    }
   ],
   "source": [
    "# Função para avaliar modelos\n",
    "def evaluate_model(model):\n",
    "    scores = cross_val_score(model, X_train, y_train, cv=5, scoring='r2')\n",
    "    return scores.mean()\n",
    "\n",
    "# Testar diferentes modelos\n",
    "models = {\n",
    "    'Linear Regression': LinearRegression(),\n",
    "    'Decision Tree': DecisionTreeRegressor(random_state=42),\n",
    "    'Random Forest': RandomForestRegressor(random_state=42),\n",
    "    'K-Nearest Neighbors': KNeighborsRegressor(),\n",
    "    'Support Vector Regressor': SVR()\n",
    "}\n",
    "\n",
    "# Avaliação dos modelos\n",
    "model_scores = {name: evaluate_model(model) for name, model in models.items()}\n",
    "model_scores"
   ]
  },
  {
   "cell_type": "markdown",
   "id": "98230a71",
   "metadata": {},
   "source": [
    "## Seleção do Melhor Modelo e Avaliação"
   ]
  },
  {
   "cell_type": "code",
   "execution_count": 34,
   "id": "0fca5e26",
   "metadata": {},
   "outputs": [
    {
     "name": "stdout",
     "output_type": "stream",
     "text": [
      "Melhor modelo: Linear Regression\n",
      "MAE: 1595.1912101704522\n",
      "R²: 0.9210818822962892\n"
     ]
    }
   ],
   "source": [
    "# Selecionar o modelo com maior pontuação\n",
    "best_model_name = max(model_scores, key=model_scores.get)\n",
    "best_model = models[best_model_name]\n",
    "\n",
    "# Treinar e testar o modelo escolhido\n",
    "best_model.fit(X_train, y_train)\n",
    "y_pred = best_model.predict(X_test)\n",
    "\n",
    "print(f'Melhor modelo: {best_model_name}')\n",
    "print(f'MAE: {mean_absolute_error(y_test, y_pred)}')\n",
    "print(f'R²: {r2_score(y_test, y_pred)}')\n",
    "\n"
   ]
  },
  {
   "cell_type": "markdown",
   "id": "dc7eb414",
   "metadata": {},
   "source": [
    "## Visualização do Melhor Modelo\n",
    "Vamos visualizar as previsões do modelo comparadas aos valores reais."
   ]
  },
  {
   "cell_type": "code",
   "execution_count": 27,
   "id": "30a11d45",
   "metadata": {},
   "outputs": [
    {
     "data": {
      "image/png": "[encoded data removed]",
      "text/plain": [
       "<Figure size 640x480 with 1 Axes>"
      ]
     },
     "metadata": {},
     "output_type": "display_data"
    }
   ],
   "source": [
    "# Visualizar previsões vs. valores reais com linha de identidade\n",
    "plt.scatter(y_test, y_pred, alpha=0.5, label=\"Previsões\")\n",
    "plt.plot([min(y_test), max(y_test)], [min(y_test), max(y_test)], color='red', label=\"Linha de identidade (Previsão = Real)\")\n",
    "plt.xlabel('Valores Reais')\n",
    "plt.ylabel('Previsões')\n",
    "plt.title(f'Previsões vs. Valores Reais - {best_model_name}')\n",
    "plt.legend()\n",
    "plt.show()"
   ]
  },
  {
   "cell_type": "code",
   "execution_count": null,
   "id": "a9780046-b053-49be-beca-9b2ba774ed0d",
   "metadata": {},
   "outputs": [],
   "source": []
  }
 ],
 "metadata": {
  "kernelspec": {
   "display_name": "Python 3 (ipykernel)",
   "language": "python",
   "name": "python3"
  },
  "language_info": {
   "codemirror_mode": {
    "name": "ipython",
    "version": 3
   },
   "file_extension": ".py",
   "mimetype": "text/x-python",
   "name": "python",
   "nbconvert_exporter": "python",
   "pygments_lexer": "ipython3",
   "version": "3.12.7"
  }
 },
 "nbformat": 4,
 "nbformat_minor": 5
}
